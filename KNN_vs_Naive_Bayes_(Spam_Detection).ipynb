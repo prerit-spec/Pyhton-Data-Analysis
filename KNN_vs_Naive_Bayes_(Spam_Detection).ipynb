{
  "nbformat": 4,
  "nbformat_minor": 0,
  "metadata": {
    "kernelspec": {
      "display_name": "Python 3",
      "language": "python",
      "name": "python3"
    },
    "language_info": {
      "codemirror_mode": {
        "name": "ipython",
        "version": 3
      },
      "file_extension": ".py",
      "mimetype": "text/x-python",
      "name": "python",
      "nbconvert_exporter": "python",
      "pygments_lexer": "ipython3",
      "version": "3.7.4"
    },
    "papermill": {
      "default_parameters": {},
      "duration": 21.495457,
      "end_time": "2021-02-05T04:29:41.863266",
      "environment_variables": {},
      "exception": null,
      "input_path": "__notebook__.ipynb",
      "output_path": "__notebook__.ipynb",
      "parameters": {},
      "start_time": "2021-02-05T04:29:20.367809",
      "version": "2.2.2"
    },
    "colab": {
      "name": "KNN vs Naive Bayes (Spam Detection).ipynb",
      "provenance": [],
      "toc_visible": true,
      "include_colab_link": true
    }
  },
  "cells": [
    {
      "cell_type": "markdown",
      "metadata": {
        "id": "view-in-github",
        "colab_type": "text"
      },
      "source": [
        "<a href=\"https://colab.research.google.com/github/prerit-spec/Pyhton-Data-Analysis/blob/main/KNN_vs_Naive_Bayes_(Spam_Detection).ipynb\" target=\"_parent\"><img src=\"https://colab.research.google.com/assets/colab-badge.svg\" alt=\"Open In Colab\"/></a>"
      ]
    },
    {
      "cell_type": "markdown",
      "metadata": {
        "id": "9zVrGg8pMsqc"
      },
      "source": [
        "# Naive Bayes Classifier vs KNN (Spam detection)\n",
        "### Cse minor (AIML) Teacher Assesment\n",
        "#### Name: Prerit Rudrakar\n",
        "#### Electronics Department\n",
        "#### Roll no: A-55\n"
      ]
    },
    {
      "cell_type": "markdown",
      "metadata": {
        "id": "R9ORSXs8Msqe"
      },
      "source": [
        "Here in this notebook I am going to compare the accuracy of 'Naive Bayes Classifiers' and 'KNN' on a Spam Detection Dataset."
      ]
    },
    {
      "cell_type": "code",
      "metadata": {
        "_cell_guid": "b1076dfc-b9ad-4769-8c92-a6c4dae69d19",
        "_uuid": "8f2839f25d086af736a60e9eeb907d3b93b6e0e5",
        "execution": {
          "iopub.execute_input": "2021-02-05T04:29:26.682194Z",
          "iopub.status.busy": "2021-02-05T04:29:26.681320Z",
          "iopub.status.idle": "2021-02-05T04:29:26.696706Z",
          "shell.execute_reply": "2021-02-05T04:29:26.695689Z"
        },
        "papermill": {
          "duration": 0.048128,
          "end_time": "2021-02-05T04:29:26.696946",
          "exception": false,
          "start_time": "2021-02-05T04:29:26.648818",
          "status": "completed"
        },
        "tags": [],
        "id": "0evPHncqMsqf"
      },
      "source": [
        "# Importing all the required libraries.\n",
        "import numpy as np # linear algebra\n",
        "import pandas as pd # data processing, CSV file I/O (e.g. pd.read_csv)\n"
      ],
      "execution_count": 1,
      "outputs": []
    },
    {
      "cell_type": "code",
      "metadata": {
        "execution": {
          "iopub.execute_input": "2021-02-05T04:29:26.753994Z",
          "iopub.status.busy": "2021-02-05T04:29:26.753274Z",
          "iopub.status.idle": "2021-02-05T04:29:26.960615Z",
          "shell.execute_reply": "2021-02-05T04:29:26.960058Z"
        },
        "papermill": {
          "duration": 0.237503,
          "end_time": "2021-02-05T04:29:26.960760",
          "exception": false,
          "start_time": "2021-02-05T04:29:26.723257",
          "status": "completed"
        },
        "tags": [],
        "id": "FUha7h6rMsqf"
      },
      "source": [
        "# Reading the dataset.\n",
        "dataset = pd.read_csv('/spam_ham_dataset.csv')"
      ],
      "execution_count": 2,
      "outputs": []
    },
    {
      "cell_type": "code",
      "metadata": {
        "execution": {
          "iopub.execute_input": "2021-02-05T04:29:27.002174Z",
          "iopub.status.busy": "2021-02-05T04:29:27.001480Z",
          "iopub.status.idle": "2021-02-05T04:29:27.006912Z",
          "shell.execute_reply": "2021-02-05T04:29:27.006395Z"
        },
        "papermill": {
          "duration": 0.029468,
          "end_time": "2021-02-05T04:29:27.007041",
          "exception": false,
          "start_time": "2021-02-05T04:29:26.977573",
          "status": "completed"
        },
        "tags": [],
        "colab": {
          "base_uri": "https://localhost:8080/"
        },
        "id": "L6m_qFwrMsqg",
        "outputId": "a7057f15-93d8-428a-e0e9-9eb1601e1da7"
      },
      "source": [
        "# Determining the columns available.\n",
        "dataset.columns"
      ],
      "execution_count": 3,
      "outputs": [
        {
          "output_type": "execute_result",
          "data": {
            "text/plain": [
              "Index(['Unnamed: 0', 'label', 'text', 'label_num'], dtype='object')"
            ]
          },
          "metadata": {
            "tags": []
          },
          "execution_count": 3
        }
      ]
    },
    {
      "cell_type": "code",
      "metadata": {
        "execution": {
          "iopub.execute_input": "2021-02-05T04:29:27.056720Z",
          "iopub.status.busy": "2021-02-05T04:29:27.056115Z",
          "iopub.status.idle": "2021-02-05T04:29:27.079880Z",
          "shell.execute_reply": "2021-02-05T04:29:27.079238Z"
        },
        "papermill": {
          "duration": 0.055952,
          "end_time": "2021-02-05T04:29:27.080118",
          "exception": false,
          "start_time": "2021-02-05T04:29:27.024166",
          "status": "completed"
        },
        "tags": [],
        "colab": {
          "base_uri": "https://localhost:8080/",
          "height": 204
        },
        "id": "E-v-t6SkMsqg",
        "outputId": "4bb4f9d8-9ad2-472d-fade-3b0bf4f0d61c"
      },
      "source": [
        "#Printing the dataset first five rows.\n",
        "dataset.head(5)"
      ],
      "execution_count": 4,
      "outputs": [
        {
          "output_type": "execute_result",
          "data": {
            "text/html": [
              "<div>\n",
              "<style scoped>\n",
              "    .dataframe tbody tr th:only-of-type {\n",
              "        vertical-align: middle;\n",
              "    }\n",
              "\n",
              "    .dataframe tbody tr th {\n",
              "        vertical-align: top;\n",
              "    }\n",
              "\n",
              "    .dataframe thead th {\n",
              "        text-align: right;\n",
              "    }\n",
              "</style>\n",
              "<table border=\"1\" class=\"dataframe\">\n",
              "  <thead>\n",
              "    <tr style=\"text-align: right;\">\n",
              "      <th></th>\n",
              "      <th>Unnamed: 0</th>\n",
              "      <th>label</th>\n",
              "      <th>text</th>\n",
              "      <th>label_num</th>\n",
              "    </tr>\n",
              "  </thead>\n",
              "  <tbody>\n",
              "    <tr>\n",
              "      <th>0</th>\n",
              "      <td>605</td>\n",
              "      <td>ham</td>\n",
              "      <td>Subject: enron methanol ; meter # : 988291\\r\\n...</td>\n",
              "      <td>0</td>\n",
              "    </tr>\n",
              "    <tr>\n",
              "      <th>1</th>\n",
              "      <td>2349</td>\n",
              "      <td>ham</td>\n",
              "      <td>Subject: hpl nom for january 9 , 2001\\r\\n( see...</td>\n",
              "      <td>0</td>\n",
              "    </tr>\n",
              "    <tr>\n",
              "      <th>2</th>\n",
              "      <td>3624</td>\n",
              "      <td>ham</td>\n",
              "      <td>Subject: neon retreat\\r\\nho ho ho , we ' re ar...</td>\n",
              "      <td>0</td>\n",
              "    </tr>\n",
              "    <tr>\n",
              "      <th>3</th>\n",
              "      <td>4685</td>\n",
              "      <td>spam</td>\n",
              "      <td>Subject: photoshop , windows , office . cheap ...</td>\n",
              "      <td>1</td>\n",
              "    </tr>\n",
              "    <tr>\n",
              "      <th>4</th>\n",
              "      <td>2030</td>\n",
              "      <td>ham</td>\n",
              "      <td>Subject: re : indian springs\\r\\nthis deal is t...</td>\n",
              "      <td>0</td>\n",
              "    </tr>\n",
              "  </tbody>\n",
              "</table>\n",
              "</div>"
            ],
            "text/plain": [
              "   Unnamed: 0  ... label_num\n",
              "0         605  ...         0\n",
              "1        2349  ...         0\n",
              "2        3624  ...         0\n",
              "3        4685  ...         1\n",
              "4        2030  ...         0\n",
              "\n",
              "[5 rows x 4 columns]"
            ]
          },
          "metadata": {
            "tags": []
          },
          "execution_count": 4
        }
      ]
    },
    {
      "cell_type": "code",
      "metadata": {
        "execution": {
          "iopub.execute_input": "2021-02-05T04:29:27.121479Z",
          "iopub.status.busy": "2021-02-05T04:29:27.120832Z",
          "iopub.status.idle": "2021-02-05T04:29:27.127038Z",
          "shell.execute_reply": "2021-02-05T04:29:27.127532Z"
        },
        "papermill": {
          "duration": 0.029254,
          "end_time": "2021-02-05T04:29:27.127704",
          "exception": false,
          "start_time": "2021-02-05T04:29:27.098450",
          "status": "completed"
        },
        "tags": [],
        "colab": {
          "base_uri": "https://localhost:8080/"
        },
        "id": "eGij5AYiMsqh",
        "outputId": "6c02ae32-992f-46a4-8ebe-63f0db7b6d24"
      },
      "source": [
        "#Determining the size of the dataset.\n",
        "dataset.shape"
      ],
      "execution_count": 5,
      "outputs": [
        {
          "output_type": "execute_result",
          "data": {
            "text/plain": [
              "(5171, 4)"
            ]
          },
          "metadata": {
            "tags": []
          },
          "execution_count": 5
        }
      ]
    },
    {
      "cell_type": "code",
      "metadata": {
        "execution": {
          "iopub.execute_input": "2021-02-05T04:29:27.174394Z",
          "iopub.status.busy": "2021-02-05T04:29:27.173242Z",
          "iopub.status.idle": "2021-02-05T04:29:27.183249Z",
          "shell.execute_reply": "2021-02-05T04:29:27.182706Z"
        },
        "papermill": {
          "duration": 0.03732,
          "end_time": "2021-02-05T04:29:27.183390",
          "exception": false,
          "start_time": "2021-02-05T04:29:27.146070",
          "status": "completed"
        },
        "tags": [],
        "colab": {
          "base_uri": "https://localhost:8080/"
        },
        "id": "zb1RUaNSMsqh",
        "outputId": "de971cab-049d-4f51-f37d-da5ed2ca3182"
      },
      "source": [
        "dataset[\"label_num\"].value_counts"
      ],
      "execution_count": 6,
      "outputs": [
        {
          "output_type": "execute_result",
          "data": {
            "text/plain": [
              "<bound method IndexOpsMixin.value_counts of 0       0\n",
              "1       0\n",
              "2       0\n",
              "3       1\n",
              "4       0\n",
              "       ..\n",
              "5166    0\n",
              "5167    0\n",
              "5168    0\n",
              "5169    0\n",
              "5170    1\n",
              "Name: label_num, Length: 5171, dtype: int64>"
            ]
          },
          "metadata": {
            "tags": []
          },
          "execution_count": 6
        }
      ]
    },
    {
      "cell_type": "code",
      "metadata": {
        "execution": {
          "iopub.execute_input": "2021-02-05T04:29:27.267271Z",
          "iopub.status.busy": "2021-02-05T04:29:27.266382Z",
          "iopub.status.idle": "2021-02-05T04:29:27.275137Z",
          "shell.execute_reply": "2021-02-05T04:29:27.275713Z"
        },
        "papermill": {
          "duration": 0.035269,
          "end_time": "2021-02-05T04:29:27.275872",
          "exception": false,
          "start_time": "2021-02-05T04:29:27.240603",
          "status": "completed"
        },
        "tags": [],
        "colab": {
          "base_uri": "https://localhost:8080/"
        },
        "id": "ygiJzLTrMsqh",
        "outputId": "b8132f87-b6a8-47ea-ae9e-3f5574f06bc8"
      },
      "source": [
        "dataset['Unnamed: 0'].value_counts"
      ],
      "execution_count": 7,
      "outputs": [
        {
          "output_type": "execute_result",
          "data": {
            "text/plain": [
              "<bound method IndexOpsMixin.value_counts of 0        605\n",
              "1       2349\n",
              "2       3624\n",
              "3       4685\n",
              "4       2030\n",
              "        ... \n",
              "5166    1518\n",
              "5167     404\n",
              "5168    2933\n",
              "5169    1409\n",
              "5170    4807\n",
              "Name: Unnamed: 0, Length: 5171, dtype: int64>"
            ]
          },
          "metadata": {
            "tags": []
          },
          "execution_count": 7
        }
      ]
    },
    {
      "cell_type": "markdown",
      "metadata": {
        "papermill": {
          "duration": 0.019262,
          "end_time": "2021-02-05T04:29:27.315221",
          "exception": false,
          "start_time": "2021-02-05T04:29:27.295959",
          "status": "completed"
        },
        "tags": [],
        "id": "uXU66dnHMsqi"
      },
      "source": [
        "Since we cannot use Unnamed for classification we are dropping it"
      ]
    },
    {
      "cell_type": "code",
      "metadata": {
        "execution": {
          "iopub.execute_input": "2021-02-05T04:29:27.365176Z",
          "iopub.status.busy": "2021-02-05T04:29:27.364536Z",
          "iopub.status.idle": "2021-02-05T04:29:27.368859Z",
          "shell.execute_reply": "2021-02-05T04:29:27.368281Z"
        },
        "papermill": {
          "duration": 0.032522,
          "end_time": "2021-02-05T04:29:27.369011",
          "exception": false,
          "start_time": "2021-02-05T04:29:27.336489",
          "status": "completed"
        },
        "tags": [],
        "id": "JcdABhTyMsqi"
      },
      "source": [
        "dataset.drop('Unnamed: 0',axis=1,inplace=True)"
      ],
      "execution_count": 8,
      "outputs": []
    },
    {
      "cell_type": "markdown",
      "metadata": {
        "papermill": {
          "duration": 0.018768,
          "end_time": "2021-02-05T04:29:27.406926",
          "exception": false,
          "start_time": "2021-02-05T04:29:27.388158",
          "status": "completed"
        },
        "tags": [],
        "id": "JdqLTQ5gMsqi"
      },
      "source": [
        "We can have either label or label_num \n",
        "\n",
        "By observing the top 5 datapoints in dataset\n",
        "\n",
        "if label is ham; label_num is 0 \n",
        "\n",
        "if label is spam; label_num is 1"
      ]
    },
    {
      "cell_type": "code",
      "metadata": {
        "execution": {
          "iopub.execute_input": "2021-02-05T04:29:27.451418Z",
          "iopub.status.busy": "2021-02-05T04:29:27.450767Z",
          "iopub.status.idle": "2021-02-05T04:29:27.453202Z",
          "shell.execute_reply": "2021-02-05T04:29:27.453710Z"
        },
        "papermill": {
          "duration": 0.028052,
          "end_time": "2021-02-05T04:29:27.453894",
          "exception": false,
          "start_time": "2021-02-05T04:29:27.425842",
          "status": "completed"
        },
        "tags": [],
        "id": "9g2w7AWQMsqj"
      },
      "source": [
        "dataset.drop('label',axis=1,inplace=True)"
      ],
      "execution_count": 9,
      "outputs": []
    },
    {
      "cell_type": "code",
      "metadata": {
        "execution": {
          "iopub.execute_input": "2021-02-05T04:29:27.495992Z",
          "iopub.status.busy": "2021-02-05T04:29:27.495352Z",
          "iopub.status.idle": "2021-02-05T04:29:27.504510Z",
          "shell.execute_reply": "2021-02-05T04:29:27.505044Z"
        },
        "papermill": {
          "duration": 0.031676,
          "end_time": "2021-02-05T04:29:27.505252",
          "exception": false,
          "start_time": "2021-02-05T04:29:27.473576",
          "status": "completed"
        },
        "tags": [],
        "colab": {
          "base_uri": "https://localhost:8080/",
          "height": 204
        },
        "id": "w3uxIvvLMsqj",
        "outputId": "6b35bfbb-c70f-4edd-91eb-2f19abf6b6fb"
      },
      "source": [
        "dataset.head(5)"
      ],
      "execution_count": 10,
      "outputs": [
        {
          "output_type": "execute_result",
          "data": {
            "text/html": [
              "<div>\n",
              "<style scoped>\n",
              "    .dataframe tbody tr th:only-of-type {\n",
              "        vertical-align: middle;\n",
              "    }\n",
              "\n",
              "    .dataframe tbody tr th {\n",
              "        vertical-align: top;\n",
              "    }\n",
              "\n",
              "    .dataframe thead th {\n",
              "        text-align: right;\n",
              "    }\n",
              "</style>\n",
              "<table border=\"1\" class=\"dataframe\">\n",
              "  <thead>\n",
              "    <tr style=\"text-align: right;\">\n",
              "      <th></th>\n",
              "      <th>text</th>\n",
              "      <th>label_num</th>\n",
              "    </tr>\n",
              "  </thead>\n",
              "  <tbody>\n",
              "    <tr>\n",
              "      <th>0</th>\n",
              "      <td>Subject: enron methanol ; meter # : 988291\\r\\n...</td>\n",
              "      <td>0</td>\n",
              "    </tr>\n",
              "    <tr>\n",
              "      <th>1</th>\n",
              "      <td>Subject: hpl nom for january 9 , 2001\\r\\n( see...</td>\n",
              "      <td>0</td>\n",
              "    </tr>\n",
              "    <tr>\n",
              "      <th>2</th>\n",
              "      <td>Subject: neon retreat\\r\\nho ho ho , we ' re ar...</td>\n",
              "      <td>0</td>\n",
              "    </tr>\n",
              "    <tr>\n",
              "      <th>3</th>\n",
              "      <td>Subject: photoshop , windows , office . cheap ...</td>\n",
              "      <td>1</td>\n",
              "    </tr>\n",
              "    <tr>\n",
              "      <th>4</th>\n",
              "      <td>Subject: re : indian springs\\r\\nthis deal is t...</td>\n",
              "      <td>0</td>\n",
              "    </tr>\n",
              "  </tbody>\n",
              "</table>\n",
              "</div>"
            ],
            "text/plain": [
              "                                                text  label_num\n",
              "0  Subject: enron methanol ; meter # : 988291\\r\\n...          0\n",
              "1  Subject: hpl nom for january 9 , 2001\\r\\n( see...          0\n",
              "2  Subject: neon retreat\\r\\nho ho ho , we ' re ar...          0\n",
              "3  Subject: photoshop , windows , office . cheap ...          1\n",
              "4  Subject: re : indian springs\\r\\nthis deal is t...          0"
            ]
          },
          "metadata": {
            "tags": []
          },
          "execution_count": 10
        }
      ]
    },
    {
      "cell_type": "markdown",
      "metadata": {
        "papermill": {
          "duration": 0.02055,
          "end_time": "2021-02-05T04:29:27.546078",
          "exception": false,
          "start_time": "2021-02-05T04:29:27.525528",
          "status": "completed"
        },
        "tags": [],
        "id": "M0whLGWNMsqj"
      },
      "source": [
        "Converting text to"
      ]
    },
    {
      "cell_type": "code",
      "metadata": {
        "execution": {
          "iopub.execute_input": "2021-02-05T04:29:27.589201Z",
          "iopub.status.busy": "2021-02-05T04:29:27.588536Z",
          "iopub.status.idle": "2021-02-05T04:29:27.595428Z",
          "shell.execute_reply": "2021-02-05T04:29:27.594820Z"
        },
        "papermill": {
          "duration": 0.029378,
          "end_time": "2021-02-05T04:29:27.595571",
          "exception": false,
          "start_time": "2021-02-05T04:29:27.566193",
          "status": "completed"
        },
        "tags": [],
        "id": "sy9xMwuXMsqj"
      },
      "source": [
        "#preprocessign the text.\n",
        "import re\n",
        "def preprocess(text):\n",
        "    text = text.replace('\\r',' ')\n",
        "    text = text.replace('\\n',' ')\n",
        "    text = text.replace('#',' ')\n",
        "    text = text.replace(\"we ' re\",\"we are\")\n",
        "    text = text.replace(\"they ' re\",\"they are\")\n",
        "    text = text.replace(\"you ' re\",\"you are\")\n",
        "    text = text.replace(\"Subject:\",\" \")\n",
        "\n",
        "    return text"
      ],
      "execution_count": 11,
      "outputs": []
    },
    {
      "cell_type": "code",
      "metadata": {
        "execution": {
          "iopub.execute_input": "2021-02-05T04:29:27.661286Z",
          "iopub.status.busy": "2021-02-05T04:29:27.660606Z",
          "iopub.status.idle": "2021-02-05T04:29:27.700492Z",
          "shell.execute_reply": "2021-02-05T04:29:27.700968Z"
        },
        "papermill": {
          "duration": 0.08406,
          "end_time": "2021-02-05T04:29:27.701190",
          "exception": false,
          "start_time": "2021-02-05T04:29:27.617130",
          "status": "completed"
        },
        "tags": [],
        "id": "txySqtz_Msqk"
      },
      "source": [
        "dataset['text_clean']=dataset['text'].map(preprocess)"
      ],
      "execution_count": 12,
      "outputs": []
    },
    {
      "cell_type": "code",
      "metadata": {
        "execution": {
          "iopub.execute_input": "2021-02-05T04:29:27.753319Z",
          "iopub.status.busy": "2021-02-05T04:29:27.752660Z",
          "iopub.status.idle": "2021-02-05T04:29:27.755834Z",
          "shell.execute_reply": "2021-02-05T04:29:27.756356Z"
        },
        "papermill": {
          "duration": 0.034547,
          "end_time": "2021-02-05T04:29:27.756525",
          "exception": false,
          "start_time": "2021-02-05T04:29:27.721978",
          "status": "completed"
        },
        "tags": [],
        "colab": {
          "base_uri": "https://localhost:8080/",
          "height": 204
        },
        "id": "U5QMb-xhMsqk",
        "outputId": "a2d931fc-429f-49e0-cb3b-37a5c4e85a49"
      },
      "source": [
        "dataset.head(5)"
      ],
      "execution_count": 13,
      "outputs": [
        {
          "output_type": "execute_result",
          "data": {
            "text/html": [
              "<div>\n",
              "<style scoped>\n",
              "    .dataframe tbody tr th:only-of-type {\n",
              "        vertical-align: middle;\n",
              "    }\n",
              "\n",
              "    .dataframe tbody tr th {\n",
              "        vertical-align: top;\n",
              "    }\n",
              "\n",
              "    .dataframe thead th {\n",
              "        text-align: right;\n",
              "    }\n",
              "</style>\n",
              "<table border=\"1\" class=\"dataframe\">\n",
              "  <thead>\n",
              "    <tr style=\"text-align: right;\">\n",
              "      <th></th>\n",
              "      <th>text</th>\n",
              "      <th>label_num</th>\n",
              "      <th>text_clean</th>\n",
              "    </tr>\n",
              "  </thead>\n",
              "  <tbody>\n",
              "    <tr>\n",
              "      <th>0</th>\n",
              "      <td>Subject: enron methanol ; meter # : 988291\\r\\n...</td>\n",
              "      <td>0</td>\n",
              "      <td>enron methanol ; meter   : 988291  this is a...</td>\n",
              "    </tr>\n",
              "    <tr>\n",
              "      <th>1</th>\n",
              "      <td>Subject: hpl nom for january 9 , 2001\\r\\n( see...</td>\n",
              "      <td>0</td>\n",
              "      <td>hpl nom for january 9 , 2001  ( see attached...</td>\n",
              "    </tr>\n",
              "    <tr>\n",
              "      <th>2</th>\n",
              "      <td>Subject: neon retreat\\r\\nho ho ho , we ' re ar...</td>\n",
              "      <td>0</td>\n",
              "      <td>neon retreat  ho ho ho , we are around to th...</td>\n",
              "    </tr>\n",
              "    <tr>\n",
              "      <th>3</th>\n",
              "      <td>Subject: photoshop , windows , office . cheap ...</td>\n",
              "      <td>1</td>\n",
              "      <td>photoshop , windows , office . cheap . main ...</td>\n",
              "    </tr>\n",
              "    <tr>\n",
              "      <th>4</th>\n",
              "      <td>Subject: re : indian springs\\r\\nthis deal is t...</td>\n",
              "      <td>0</td>\n",
              "      <td>re : indian springs  this deal is to book th...</td>\n",
              "    </tr>\n",
              "  </tbody>\n",
              "</table>\n",
              "</div>"
            ],
            "text/plain": [
              "                                                text  ...                                         text_clean\n",
              "0  Subject: enron methanol ; meter # : 988291\\r\\n...  ...    enron methanol ; meter   : 988291  this is a...\n",
              "1  Subject: hpl nom for january 9 , 2001\\r\\n( see...  ...    hpl nom for january 9 , 2001  ( see attached...\n",
              "2  Subject: neon retreat\\r\\nho ho ho , we ' re ar...  ...    neon retreat  ho ho ho , we are around to th...\n",
              "3  Subject: photoshop , windows , office . cheap ...  ...    photoshop , windows , office . cheap . main ...\n",
              "4  Subject: re : indian springs\\r\\nthis deal is t...  ...    re : indian springs  this deal is to book th...\n",
              "\n",
              "[5 rows x 3 columns]"
            ]
          },
          "metadata": {
            "tags": []
          },
          "execution_count": 13
        }
      ]
    },
    {
      "cell_type": "markdown",
      "metadata": {
        "papermill": {
          "duration": 0.02086,
          "end_time": "2021-02-05T04:29:27.798484",
          "exception": false,
          "start_time": "2021-02-05T04:29:27.777624",
          "status": "completed"
        },
        "tags": [],
        "id": "Yxg3CUNFMsqk"
      },
      "source": [
        "Converting text_clean to vector"
      ]
    },
    {
      "cell_type": "code",
      "metadata": {
        "execution": {
          "iopub.execute_input": "2021-02-05T04:29:27.846246Z",
          "iopub.status.busy": "2021-02-05T04:29:27.843799Z",
          "iopub.status.idle": "2021-02-05T04:29:29.813285Z",
          "shell.execute_reply": "2021-02-05T04:29:29.812430Z"
        },
        "papermill": {
          "duration": 1.993777,
          "end_time": "2021-02-05T04:29:29.813456",
          "exception": false,
          "start_time": "2021-02-05T04:29:27.819679",
          "status": "completed"
        },
        "tags": [],
        "colab": {
          "base_uri": "https://localhost:8080/"
        },
        "id": "aCUBXDHyMsqk",
        "outputId": "2ffb3de2-754d-4331-b68c-f91cd9cd379f"
      },
      "source": [
        "from sklearn.feature_extraction.text import CountVectorizer\n",
        "\n",
        "\n",
        "count_vectorizer = CountVectorizer(ngram_range=(1,1))\n",
        "X = count_vectorizer.fit_transform(dataset['text_clean'])\n",
        "print(X.shape)"
      ],
      "execution_count": 14,
      "outputs": [
        {
          "output_type": "stream",
          "text": [
            "(5171, 50447)\n"
          ],
          "name": "stdout"
        }
      ]
    },
    {
      "cell_type": "markdown",
      "metadata": {
        "papermill": {
          "duration": 0.032378,
          "end_time": "2021-02-05T04:29:29.878667",
          "exception": false,
          "start_time": "2021-02-05T04:29:29.846289",
          "status": "completed"
        },
        "tags": [],
        "id": "oOIqkcVAMsql"
      },
      "source": [
        "Splitting the dataset into train ans test dataset"
      ]
    },
    {
      "cell_type": "code",
      "metadata": {
        "execution": {
          "iopub.execute_input": "2021-02-05T04:29:29.950956Z",
          "iopub.status.busy": "2021-02-05T04:29:29.950005Z",
          "iopub.status.idle": "2021-02-05T04:29:30.025693Z",
          "shell.execute_reply": "2021-02-05T04:29:30.026196Z"
        },
        "papermill": {
          "duration": 0.114899,
          "end_time": "2021-02-05T04:29:30.026378",
          "exception": false,
          "start_time": "2021-02-05T04:29:29.911479",
          "status": "completed"
        },
        "tags": [],
        "id": "4u_G0A-WMsql"
      },
      "source": [
        "from sklearn.model_selection import train_test_split\n",
        "\n",
        "x,x_test,y,y_test = train_test_split(X,dataset['label_num'],test_size=0.2,random_state=42)\n",
        "x_train,x_cv,y_train,y_cv = train_test_split(x,y,test_size=0.2,random_state=42)"
      ],
      "execution_count": 15,
      "outputs": []
    },
    {
      "cell_type": "code",
      "metadata": {
        "execution": {
          "iopub.execute_input": "2021-02-05T04:29:30.073831Z",
          "iopub.status.busy": "2021-02-05T04:29:30.073248Z",
          "iopub.status.idle": "2021-02-05T04:29:30.080154Z",
          "shell.execute_reply": "2021-02-05T04:29:30.079485Z"
        },
        "papermill": {
          "duration": 0.031768,
          "end_time": "2021-02-05T04:29:30.080297",
          "exception": false,
          "start_time": "2021-02-05T04:29:30.048529",
          "status": "completed"
        },
        "tags": [],
        "colab": {
          "base_uri": "https://localhost:8080/"
        },
        "id": "NFTXlpySMsql",
        "outputId": "0ab297da-a242-476d-cd54-1808386505d4"
      },
      "source": [
        "print((x_train).shape)"
      ],
      "execution_count": 16,
      "outputs": [
        {
          "output_type": "stream",
          "text": [
            "(3308, 50447)\n"
          ],
          "name": "stdout"
        }
      ]
    },
    {
      "cell_type": "code",
      "metadata": {
        "execution": {
          "iopub.execute_input": "2021-02-05T04:29:30.131798Z",
          "iopub.status.busy": "2021-02-05T04:29:30.131012Z",
          "iopub.status.idle": "2021-02-05T04:29:37.003765Z",
          "shell.execute_reply": "2021-02-05T04:29:37.004964Z"
        },
        "papermill": {
          "duration": 6.902849,
          "end_time": "2021-02-05T04:29:37.005280",
          "exception": false,
          "start_time": "2021-02-05T04:29:30.102431",
          "status": "completed"
        },
        "tags": [],
        "colab": {
          "base_uri": "https://localhost:8080/"
        },
        "id": "JtOZn-LuMsql",
        "outputId": "3b62653c-98cf-4de0-bbc7-5797343e9f22"
      },
      "source": [
        "import numpy as np\n",
        "from sklearn.metrics import classification_report\n",
        "from sklearn.metrics import confusion_matrix\n",
        "from sklearn.metrics import accuracy_score\n",
        "error=[]\n",
        "from sklearn.neighbors import KNeighborsClassifier\n",
        "for i in range(1,20):\n",
        "    neigh = KNeighborsClassifier(n_neighbors=i)\n",
        "    neigh.fit(x_train,y_train)\n",
        "    y_pred = neigh.predict(x_cv)\n",
        "    print(classification_report(y_cv, y_pred))\n",
        "    print(confusion_matrix(y_cv, y_pred))\n",
        "    print()\n",
        "    print()\n",
        "    print(accuracy_score(y_cv, y_pred))\n",
        "    print(\"*\"*100)\n",
        "    \n",
        "    "
      ],
      "execution_count": 17,
      "outputs": [
        {
          "output_type": "stream",
          "text": [
            "              precision    recall  f1-score   support\n",
            "\n",
            "           0       0.95      0.90      0.93       587\n",
            "           1       0.79      0.88      0.83       241\n",
            "\n",
            "    accuracy                           0.90       828\n",
            "   macro avg       0.87      0.89      0.88       828\n",
            "weighted avg       0.90      0.90      0.90       828\n",
            "\n",
            "[[531  56]\n",
            " [ 30 211]]\n",
            "\n",
            "\n",
            "0.8961352657004831\n",
            "****************************************************************************************************\n",
            "              precision    recall  f1-score   support\n",
            "\n",
            "           0       0.91      0.92      0.91       587\n",
            "           1       0.80      0.78      0.79       241\n",
            "\n",
            "    accuracy                           0.88       828\n",
            "   macro avg       0.85      0.85      0.85       828\n",
            "weighted avg       0.88      0.88      0.88       828\n",
            "\n",
            "[[540  47]\n",
            " [ 54 187]]\n",
            "\n",
            "\n",
            "0.8780193236714976\n",
            "****************************************************************************************************\n",
            "              precision    recall  f1-score   support\n",
            "\n",
            "           0       0.95      0.86      0.90       587\n",
            "           1       0.72      0.89      0.79       241\n",
            "\n",
            "    accuracy                           0.87       828\n",
            "   macro avg       0.83      0.87      0.85       828\n",
            "weighted avg       0.88      0.87      0.87       828\n",
            "\n",
            "[[503  84]\n",
            " [ 27 214]]\n",
            "\n",
            "\n",
            "0.8659420289855072\n",
            "****************************************************************************************************\n",
            "              precision    recall  f1-score   support\n",
            "\n",
            "           0       0.92      0.87      0.89       587\n",
            "           1       0.72      0.81      0.76       241\n",
            "\n",
            "    accuracy                           0.85       828\n",
            "   macro avg       0.82      0.84      0.83       828\n",
            "weighted avg       0.86      0.85      0.86       828\n",
            "\n",
            "[[510  77]\n",
            " [ 45 196]]\n",
            "\n",
            "\n",
            "0.8526570048309179\n",
            "****************************************************************************************************\n",
            "              precision    recall  f1-score   support\n",
            "\n",
            "           0       0.94      0.83      0.88       587\n",
            "           1       0.67      0.86      0.75       241\n",
            "\n",
            "    accuracy                           0.84       828\n",
            "   macro avg       0.80      0.84      0.82       828\n",
            "weighted avg       0.86      0.84      0.84       828\n",
            "\n",
            "[[485 102]\n",
            " [ 33 208]]\n",
            "\n",
            "\n",
            "0.8369565217391305\n",
            "****************************************************************************************************\n",
            "              precision    recall  f1-score   support\n",
            "\n",
            "           0       0.91      0.84      0.87       587\n",
            "           1       0.67      0.80      0.73       241\n",
            "\n",
            "    accuracy                           0.83       828\n",
            "   macro avg       0.79      0.82      0.80       828\n",
            "weighted avg       0.84      0.83      0.83       828\n",
            "\n",
            "[[493  94]\n",
            " [ 48 193]]\n",
            "\n",
            "\n",
            "0.8285024154589372\n",
            "****************************************************************************************************\n",
            "              precision    recall  f1-score   support\n",
            "\n",
            "           0       0.93      0.82      0.87       587\n",
            "           1       0.66      0.85      0.74       241\n",
            "\n",
            "    accuracy                           0.83       828\n",
            "   macro avg       0.79      0.83      0.81       828\n",
            "weighted avg       0.85      0.83      0.83       828\n",
            "\n",
            "[[482 105]\n",
            " [ 37 204]]\n",
            "\n",
            "\n",
            "0.8285024154589372\n",
            "****************************************************************************************************\n",
            "              precision    recall  f1-score   support\n",
            "\n",
            "           0       0.92      0.83      0.87       587\n",
            "           1       0.66      0.82      0.73       241\n",
            "\n",
            "    accuracy                           0.83       828\n",
            "   macro avg       0.79      0.82      0.80       828\n",
            "weighted avg       0.84      0.83      0.83       828\n",
            "\n",
            "[[487 100]\n",
            " [ 44 197]]\n",
            "\n",
            "\n",
            "0.8260869565217391\n",
            "****************************************************************************************************\n",
            "              precision    recall  f1-score   support\n",
            "\n",
            "           0       0.93      0.80      0.86       587\n",
            "           1       0.64      0.85      0.73       241\n",
            "\n",
            "    accuracy                           0.81       828\n",
            "   macro avg       0.78      0.82      0.79       828\n",
            "weighted avg       0.84      0.81      0.82       828\n",
            "\n",
            "[[470 117]\n",
            " [ 37 204]]\n",
            "\n",
            "\n",
            "0.8140096618357487\n",
            "****************************************************************************************************\n",
            "              precision    recall  f1-score   support\n",
            "\n",
            "           0       0.91      0.81      0.86       587\n",
            "           1       0.64      0.81      0.71       241\n",
            "\n",
            "    accuracy                           0.81       828\n",
            "   macro avg       0.78      0.81      0.79       828\n",
            "weighted avg       0.83      0.81      0.82       828\n",
            "\n",
            "[[477 110]\n",
            " [ 46 195]]\n",
            "\n",
            "\n",
            "0.8115942028985508\n",
            "****************************************************************************************************\n",
            "              precision    recall  f1-score   support\n",
            "\n",
            "           0       0.93      0.80      0.86       587\n",
            "           1       0.64      0.85      0.73       241\n",
            "\n",
            "    accuracy                           0.82       828\n",
            "   macro avg       0.78      0.82      0.79       828\n",
            "weighted avg       0.84      0.82      0.82       828\n",
            "\n",
            "[[471 116]\n",
            " [ 37 204]]\n",
            "\n",
            "\n",
            "0.8152173913043478\n",
            "****************************************************************************************************\n",
            "              precision    recall  f1-score   support\n",
            "\n",
            "           0       0.91      0.81      0.86       587\n",
            "           1       0.63      0.81      0.71       241\n",
            "\n",
            "    accuracy                           0.81       828\n",
            "   macro avg       0.77      0.81      0.78       828\n",
            "weighted avg       0.83      0.81      0.82       828\n",
            "\n",
            "[[474 113]\n",
            " [ 45 196]]\n",
            "\n",
            "\n",
            "0.8091787439613527\n",
            "****************************************************************************************************\n",
            "              precision    recall  f1-score   support\n",
            "\n",
            "           0       0.92      0.79      0.85       587\n",
            "           1       0.62      0.84      0.71       241\n",
            "\n",
            "    accuracy                           0.80       828\n",
            "   macro avg       0.77      0.81      0.78       828\n",
            "weighted avg       0.83      0.80      0.81       828\n",
            "\n",
            "[[463 124]\n",
            " [ 39 202]]\n",
            "\n",
            "\n",
            "0.8031400966183575\n",
            "****************************************************************************************************\n",
            "              precision    recall  f1-score   support\n",
            "\n",
            "           0       0.92      0.80      0.85       587\n",
            "           1       0.62      0.82      0.71       241\n",
            "\n",
            "    accuracy                           0.80       828\n",
            "   macro avg       0.77      0.81      0.78       828\n",
            "weighted avg       0.83      0.80      0.81       828\n",
            "\n",
            "[[468 119]\n",
            " [ 43 198]]\n",
            "\n",
            "\n",
            "0.8043478260869565\n",
            "****************************************************************************************************\n",
            "              precision    recall  f1-score   support\n",
            "\n",
            "           0       0.93      0.79      0.85       587\n",
            "           1       0.62      0.85      0.72       241\n",
            "\n",
            "    accuracy                           0.81       828\n",
            "   macro avg       0.78      0.82      0.79       828\n",
            "weighted avg       0.84      0.81      0.81       828\n",
            "\n",
            "[[463 124]\n",
            " [ 36 205]]\n",
            "\n",
            "\n",
            "0.8067632850241546\n",
            "****************************************************************************************************\n",
            "              precision    recall  f1-score   support\n",
            "\n",
            "           0       0.92      0.79      0.85       587\n",
            "           1       0.62      0.83      0.71       241\n",
            "\n",
            "    accuracy                           0.80       828\n",
            "   macro avg       0.77      0.81      0.78       828\n",
            "weighted avg       0.83      0.80      0.81       828\n",
            "\n",
            "[[465 122]\n",
            " [ 40 201]]\n",
            "\n",
            "\n",
            "0.8043478260869565\n",
            "****************************************************************************************************\n",
            "              precision    recall  f1-score   support\n",
            "\n",
            "           0       0.93      0.78      0.85       587\n",
            "           1       0.61      0.85      0.71       241\n",
            "\n",
            "    accuracy                           0.80       828\n",
            "   macro avg       0.77      0.81      0.78       828\n",
            "weighted avg       0.83      0.80      0.81       828\n",
            "\n",
            "[[457 130]\n",
            " [ 37 204]]\n",
            "\n",
            "\n",
            "0.7983091787439613\n",
            "****************************************************************************************************\n",
            "              precision    recall  f1-score   support\n",
            "\n",
            "           0       0.91      0.78      0.84       587\n",
            "           1       0.60      0.81      0.69       241\n",
            "\n",
            "    accuracy                           0.79       828\n",
            "   macro avg       0.76      0.79      0.76       828\n",
            "weighted avg       0.82      0.79      0.80       828\n",
            "\n",
            "[[458 129]\n",
            " [ 46 195]]\n",
            "\n",
            "\n",
            "0.788647342995169\n",
            "****************************************************************************************************\n",
            "              precision    recall  f1-score   support\n",
            "\n",
            "           0       0.91      0.77      0.84       587\n",
            "           1       0.60      0.82      0.69       241\n",
            "\n",
            "    accuracy                           0.79       828\n",
            "   macro avg       0.76      0.80      0.76       828\n",
            "weighted avg       0.82      0.79      0.80       828\n",
            "\n",
            "[[454 133]\n",
            " [ 43 198]]\n",
            "\n",
            "\n",
            "0.7874396135265701\n",
            "****************************************************************************************************\n"
          ],
          "name": "stdout"
        }
      ]
    },
    {
      "cell_type": "markdown",
      "metadata": {
        "id": "_Wl1tRIGMsqm"
      },
      "source": [
        "First we will use K Neighbor classifiers with K=1."
      ]
    },
    {
      "cell_type": "code",
      "metadata": {
        "execution": {
          "iopub.execute_input": "2021-02-05T04:29:37.072323Z",
          "iopub.status.busy": "2021-02-05T04:29:37.071381Z",
          "iopub.status.idle": "2021-02-05T04:29:37.477468Z",
          "shell.execute_reply": "2021-02-05T04:29:37.476782Z"
        },
        "papermill": {
          "duration": 0.44216,
          "end_time": "2021-02-05T04:29:37.477607",
          "exception": false,
          "start_time": "2021-02-05T04:29:37.035447",
          "status": "completed"
        },
        "tags": [],
        "colab": {
          "base_uri": "https://localhost:8080/"
        },
        "id": "6d_OXBDjMsqm",
        "outputId": "eedd5379-33c7-4c28-9391-6ba9c09002e1"
      },
      "source": [
        "neigh = KNeighborsClassifier(n_neighbors=1)\n",
        "neigh.fit(x_train,y_train)\n",
        "y_pred = neigh.predict(x_test)\n",
        "print(classification_report(y_test, y_pred))\n",
        "print(confusion_matrix(y_test, y_pred))\n",
        "print(accuracy_score(y_test, y_pred))"
      ],
      "execution_count": 18,
      "outputs": [
        {
          "output_type": "stream",
          "text": [
            "              precision    recall  f1-score   support\n",
            "\n",
            "           0       0.94      0.89      0.92       742\n",
            "           1       0.76      0.85      0.81       293\n",
            "\n",
            "    accuracy                           0.88      1035\n",
            "   macro avg       0.85      0.87      0.86      1035\n",
            "weighted avg       0.89      0.88      0.88      1035\n",
            "\n",
            "[[664  78]\n",
            " [ 43 250]]\n",
            "0.8830917874396135\n"
          ],
          "name": "stdout"
        }
      ]
    },
    {
      "cell_type": "markdown",
      "metadata": {
        "papermill": {
          "duration": 0.028662,
          "end_time": "2021-02-05T04:29:37.535833",
          "exception": false,
          "start_time": "2021-02-05T04:29:37.507171",
          "status": "completed"
        },
        "tags": [],
        "id": "KNi-iUTyMsqm"
      },
      "source": [
        "We have got accuracy of 88% using KNN with K=1."
      ]
    },
    {
      "cell_type": "markdown",
      "metadata": {
        "id": "QcAEcRcGMsqm"
      },
      "source": [
        "Now we'll use Gaussian naive bayes classifiers."
      ]
    },
    {
      "cell_type": "code",
      "metadata": {
        "execution": {
          "iopub.execute_input": "2021-02-05T04:29:37.602820Z",
          "iopub.status.busy": "2021-02-05T04:29:37.602063Z",
          "iopub.status.idle": "2021-02-05T04:29:41.102546Z",
          "shell.execute_reply": "2021-02-05T04:29:41.103044Z"
        },
        "papermill": {
          "duration": 3.538079,
          "end_time": "2021-02-05T04:29:41.103271",
          "exception": false,
          "start_time": "2021-02-05T04:29:37.565192",
          "status": "completed"
        },
        "tags": [],
        "colab": {
          "base_uri": "https://localhost:8080/"
        },
        "id": "Wla5U_cPMsqn",
        "outputId": "b295f693-f9fe-4025-c51e-48e52160637d"
      },
      "source": [
        "from sklearn.naive_bayes import GaussianNB\n",
        "\n",
        "gnb = GaussianNB()\n",
        "y_pred = gnb.fit(x.toarray(), y).predict(x_test.toarray())\n",
        "print(classification_report(y_test, y_pred))\n",
        "print(confusion_matrix(y_test, y_pred))\n",
        "print(accuracy_score(y_test, y_pred))\n"
      ],
      "execution_count": 19,
      "outputs": [
        {
          "output_type": "stream",
          "text": [
            "              precision    recall  f1-score   support\n",
            "\n",
            "           0       0.95      0.99      0.97       742\n",
            "           1       0.96      0.87      0.92       293\n",
            "\n",
            "    accuracy                           0.95      1035\n",
            "   macro avg       0.96      0.93      0.94      1035\n",
            "weighted avg       0.95      0.95      0.95      1035\n",
            "\n",
            "[[732  10]\n",
            " [ 37 256]]\n",
            "0.9545893719806763\n"
          ],
          "name": "stdout"
        }
      ]
    },
    {
      "cell_type": "markdown",
      "metadata": {
        "papermill": {
          "duration": 0.029369,
          "end_time": "2021-02-05T04:29:41.162731",
          "exception": false,
          "start_time": "2021-02-05T04:29:41.133362",
          "status": "completed"
        },
        "tags": [],
        "id": "loKnSC6uMsqn"
      },
      "source": [
        " When using naive bayes we get an accuracy of 95.4% f1 score =0.97"
      ]
    },
    {
      "cell_type": "markdown",
      "metadata": {
        "id": "MdF1jn-7OQwm"
      },
      "source": [
        "## So we may concluse that the Naive Bayes algorithm  is more accurate than K Nearest Neighbor.\n",
        "\n",
        "##### Naive Bayes is a linear classifier while K-NN is not.\n",
        "#####It tends to be faster when applied to big data. In comparison, k-nn is usually slower for large amounts of data, because of the calculations required for each new step in the process. If speed is important, choose Naive Bayes over K-NN."
      ]
    }
  ]
}